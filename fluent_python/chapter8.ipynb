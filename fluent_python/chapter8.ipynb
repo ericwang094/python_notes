{
 "cells": [
  {
   "cell_type": "code",
   "execution_count": 2,
   "metadata": {
    "collapsed": true
   },
   "outputs": [
    {
     "name": "stdout",
     "output_type": "stream",
     "text": [
      "True\n",
      "True\n"
     ]
    }
   ],
   "source": [
    "alex = {\"name\": \"eric\", \"age\":20}\n",
    "eric=alex\n",
    "\n",
    "# == compares value\n",
    "print(alex == eric)\n",
    "\n",
    "# is compares identity, is compares identity, more useful to compare singleton\n",
    "print(alex is eric)"
   ]
  },
  {
   "cell_type": "code",
   "execution_count": 4,
   "outputs": [
    {
     "name": "stdout",
     "output_type": "stream",
     "text": [
      "True\n",
      "(1, 2, [30, 40, 99])\n",
      "False\n"
     ]
    }
   ],
   "source": [
    "t1 = (1, 2, [30, 40])\n",
    "t2 = (1, 2, [30, 40])\n",
    "\n",
    "print(t1 == t2)\n",
    "\n",
    "id(t1[-1])\n",
    "\n",
    "t1[-1].append(99)\n",
    "print(t1)\n",
    "id(t1[-1])\n",
    "\n",
    "print(t1 == t2)"
   ],
   "metadata": {
    "collapsed": false,
    "pycharm": {
     "name": "#%%\n"
    }
   }
  },
  {
   "cell_type": "code",
   "execution_count": 12,
   "outputs": [
    {
     "name": "stdout",
     "output_type": "stream",
     "text": [
      "True\n",
      "False\n",
      "False\n",
      "[3, [55, 44, 66], (7, 8, 9), 77]\n",
      "[3, [55, 44, 66], (7, 8, 9)]\n",
      "[3, [55, 44, 66], (7, 8, 9)]\n"
     ]
    }
   ],
   "source": [
    "# copy\n",
    "\n",
    "# both list constructor and : makes a shallow copy. The only outermost\n",
    "# container is copied\n",
    "l1 = [3, [55, 44], (7, 8, 9)]\n",
    "l2 = list(l1)\n",
    "print(l2 == l1)\n",
    "print(l2 is l1)\n",
    "\n",
    "l3 = l1[:]\n",
    "print(l3 is l1)\n",
    "\n",
    "\n",
    "\n",
    "l1[1].append(66)\n",
    "l1.append(77)\n",
    "# l2 will have the same value of the inner list\n",
    "print(l1)\n",
    "print(l2)\n",
    "print(l3)"
   ],
   "metadata": {
    "collapsed": false,
    "pycharm": {
     "name": "#%%\n"
    }
   }
  },
  {
   "cell_type": "code",
   "execution_count": 15,
   "outputs": [
    {
     "name": "stdout",
     "output_type": "stream",
     "text": [
      "2713771213056 2713771213152 2713771277088\n",
      "2713771223552 2713771223552 2713771229120\n",
      "['Alice', 'Claire', 'David']\n",
      "['Alice', 'Bill', 'Claire', 'David']\n",
      "[10, 20, [[...], 30]]\n",
      "[10, 20, [[...], 30]]\n"
     ]
    }
   ],
   "source": [
    "# deepcopy\n",
    "class Bus:\n",
    "    def __init__(self, passengers=None):\n",
    "        if passengers is None:\n",
    "            self.passengers = []\n",
    "        else:\n",
    "            self.passengers = list(passengers)\n",
    "\n",
    "    def pick(self, name):\n",
    "        self.passengers.append(name)\n",
    "\n",
    "    def drop(self, name):\n",
    "        self.passengers.remove(name)\n",
    "\n",
    "import copy\n",
    "\n",
    "bus1 = Bus([\"Alice\", \"Bill\", \"Claire\", \"David\"])\n",
    "bus2 = copy.copy(bus1)\n",
    "bus3 = copy.deepcopy(bus1)\n",
    "\n",
    "print(id(bus1), id(bus2), id(bus3))\n",
    "print(id(bus1.passengers), id(bus2.passengers), id(bus3.passengers))\n",
    "bus1.drop(\"Bill\")\n",
    "print(bus2.passengers)\n",
    "print(bus3.passengers)\n",
    "\n",
    "# interesting point\n",
    "a = [10, 20]\n",
    "b = [a, 30]\n",
    "a.append(b)\n",
    "print(a)\n",
    "c = copy.deepcopy(a)\n",
    "print(c)"
   ],
   "metadata": {
    "collapsed": false,
    "pycharm": {
     "name": "#%%\n"
    }
   }
  },
  {
   "cell_type": "code",
   "execution_count": 18,
   "outputs": [
    {
     "name": "stdout",
     "output_type": "stream",
     "text": [
      "['bill']\n",
      "['bill', 'dave']\n"
     ]
    },
    {
     "data": {
      "text/plain": "True"
     },
     "execution_count": 18,
     "metadata": {},
     "output_type": "execute_result"
    }
   ],
   "source": [
    "# bad idea to have mutable type as default parameter\n",
    "class Bus:\n",
    "    def __init__(self, passengers=[]):\n",
    "        self.passengers = passengers\n",
    "\n",
    "    def pick(self, name):\n",
    "        self.passengers.append(name)\n",
    "\n",
    "    def drop(self, name):\n",
    "        self.passengers.remove(name)\n",
    "\n",
    "bus1 = Bus()\n",
    "bus1.pick(\"bill\")\n",
    "print(bus1.passengers)\n",
    "\n",
    "bus2 = Bus()\n",
    "bus2.pick(\"dave\")\n",
    "print(bus2.passengers)\n",
    "\n",
    "bus1.passengers is bus2.passengers\n",
    "\n"
   ],
   "metadata": {
    "collapsed": false,
    "pycharm": {
     "name": "#%%\n"
    }
   }
  }
 ],
 "metadata": {
  "kernelspec": {
   "display_name": "Python 3",
   "language": "python",
   "name": "python3"
  },
  "language_info": {
   "codemirror_mode": {
    "name": "ipython",
    "version": 2
   },
   "file_extension": ".py",
   "mimetype": "text/x-python",
   "name": "python",
   "nbconvert_exporter": "python",
   "pygments_lexer": "ipython2",
   "version": "2.7.6"
  }
 },
 "nbformat": 4,
 "nbformat_minor": 0
}