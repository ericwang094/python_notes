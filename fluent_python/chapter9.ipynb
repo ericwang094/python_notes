{
 "cells": [
  {
   "cell_type": "code",
   "execution_count": 5,
   "metadata": {
    "collapsed": true,
    "pycharm": {
     "name": "#%%\n"
    }
   },
   "outputs": [
    {
     "name": "stdout",
     "output_type": "stream",
     "text": [
      "(<class '__main__.Demo'>,)\n",
      "(<class '__main__.Demo'>, 'spam')\n",
      "()\n",
      "('spam',)\n"
     ]
    }
   ],
   "source": [
    "class Demo:\n",
    "    @classmethod\n",
    "    def klassmeth(*args):\n",
    "        return args\n",
    "\n",
    "    @staticmethod\n",
    "    def statmeth(*args):\n",
    "        return args\n",
    "\n",
    "# the result indicates that classmethod will have class as the first args\n",
    "print(Demo.klassmeth())\n",
    "print(Demo.klassmeth(\"spam\"))\n",
    "\n",
    "# there is no class obj, only empty for first case and spam for second\n",
    "print(Demo.statmeth())\n",
    "print(Demo.statmeth(\"spam\"))\n",
    "\n",
    "# When to use what?\n",
    "# We generally use class method to create factory methods. Factory methods return class objects ( similar to a constructor ) for different use cases.\n",
    "# We generally use static methods to create utility functions."
   ]
  },
  {
   "cell_type": "code",
   "execution_count": 3,
   "outputs": [
    {
     "name": "stdout",
     "output_type": "stream",
     "text": [
      "{'_DemoPrivateClass__my_private_var': 1, 'my_normal_var': 2}\n"
     ]
    }
   ],
   "source": [
    "# private and protected attribute\n",
    "# _ and __\n",
    "# in python, there is no way to create private variable like we can do it in java\n",
    "# But python has a language feature to help us achieve that,\n",
    "# We can put __ in front of a variable, so in python __dict__, it will be store\n",
    "# as Class__variable\n",
    "\n",
    "# _ has no special meaning for the python interpreter, it's a strong convention\n",
    "# among python programmer that you should not use such attributes from outside the class\n",
    "\n",
    "class DemoPrivateClass:\n",
    "    def __init__(self, my_private_var, my_normal_var):\n",
    "        self.__my_private_var = my_private_var\n",
    "        self.my_normal_var = my_normal_var\n",
    "\n",
    "demo = DemoPrivateClass(1, 2)\n",
    "print(demo.__dict__)"
   ],
   "metadata": {
    "collapsed": false,
    "pycharm": {
     "name": "#%%\n"
    }
   }
  }
 ],
 "metadata": {
  "kernelspec": {
   "display_name": "Python 3",
   "language": "python",
   "name": "python3"
  },
  "language_info": {
   "codemirror_mode": {
    "name": "ipython",
    "version": 2
   },
   "file_extension": ".py",
   "mimetype": "text/x-python",
   "name": "python",
   "nbconvert_exporter": "python",
   "pygments_lexer": "ipython2",
   "version": "2.7.6"
  }
 },
 "nbformat": 4,
 "nbformat_minor": 0
}