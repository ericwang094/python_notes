{
 "cells": [
  {
   "cell_type": "code",
   "execution_count": 1,
   "metadata": {
    "collapsed": true
   },
   "outputs": [
    {
     "data": {
      "text/plain": "(0, 1, [2, 3, 4])"
     },
     "execution_count": 1,
     "metadata": {},
     "output_type": "execute_result"
    }
   ],
   "source": [
    "a, b, *rest = range(5)\n",
    "a, b, rest\n"
   ]
  },
  {
   "cell_type": "code",
   "execution_count": 2,
   "outputs": [
    {
     "data": {
      "text/plain": "(0, 1, [])"
     },
     "execution_count": 2,
     "metadata": {},
     "output_type": "execute_result"
    }
   ],
   "source": [
    "a, b, *rest = range(2)\n",
    "a, b, rest"
   ],
   "metadata": {
    "collapsed": false,
    "pycharm": {
     "name": "#%%\n"
    }
   }
  },
  {
   "cell_type": "code",
   "execution_count": 4,
   "outputs": [
    {
     "name": "stdout",
     "output_type": "stream",
     "text": [
      "City(name='Tokyo', country='JP', population=36.933, coordinates=(35.689, 139.69))\n",
      "36.933\n",
      "(35.689, 139.69)\n",
      "JP\n"
     ]
    }
   ],
   "source": [
    "# namedtuple\n",
    "\n",
    "from collections import namedtuple\n",
    "City = namedtuple(\"City\", [\"name\", \"country\", \"population\", \"coordinates\"])\n",
    "tokyo = City(\"Tokyo\", \"JP\", 36.933, (35.689, 139.69))\n",
    "\n",
    "print(tokyo)\n",
    "print(tokyo.population)\n",
    "print(tokyo.coordinates)\n",
    "print(tokyo[1])"
   ],
   "metadata": {
    "collapsed": false,
    "pycharm": {
     "name": "#%%\n"
    }
   }
  },
  {
   "cell_type": "markdown",
   "source": [
    "Tuple is immutable"
   ],
   "metadata": {
    "collapsed": false
   }
  },
  {
   "cell_type": "code",
   "execution_count": 10,
   "outputs": [
    {
     "name": "stdout",
     "output_type": "stream",
     "text": [
      "[['_', '_', '_'], ['_', '_', 'X'], ['_', '_', '_']]\n",
      "[['_', '_', 'o'], ['_', '_', 'o'], ['_', '_', 'o']]\n"
     ]
    }
   ],
   "source": [
    "# pitfall for building list\n",
    "# version 1 which is fine\n",
    "board = [['_'] * 3 for i in range(3)]\n",
    "board[1][2] = 'X'\n",
    "print(board)\n",
    "\n",
    "# but if we use following, all cell from column 2 will become o\n",
    "board_2 = [['_'] * 3] * 3\n",
    "board_2[1][2] = 'o'\n",
    "print(board_2)"
   ],
   "metadata": {
    "collapsed": false,
    "pycharm": {
     "name": "#%%\n"
    }
   }
  },
  {
   "cell_type": "code",
   "execution_count": 6,
   "outputs": [
    {
     "name": "stdout",
     "output_type": "stream",
     "text": [
      "2512897283776\n",
      "2512897283776\n",
      "2512897228096\n",
      "2512910199968\n"
     ]
    }
   ],
   "source": [
    "# list is mutable, therefore, modification on it is actually same object\n",
    "l = [1, 2, 3]\n",
    "print(id(l))\n",
    "\n",
    "l *= 2\n",
    "print(id(l))\n",
    "\n",
    "# on the other hand, tuple is immutable,\n",
    "# modification on it will result a different object\n",
    "t = (1, 2, 3)\n",
    "print(id(t))\n",
    "\n",
    "t *= 2\n",
    "print(id(t))\n",
    "\n",
    "# pitfall\n",
    "# what happened on following command\n",
    "t = (1, 2, [30, 40])\n",
    "t[2] += [50, 60]\n",
    "# the result is surprising,\n",
    "# because it will throw a type\n",
    "# error, at same time,\n",
    "# will make\n",
    "# t = (1, 2, [30, 40, 50, 60])"
   ],
   "metadata": {
    "collapsed": false,
    "pycharm": {
     "name": "#%%\n"
    }
   }
  },
  {
   "cell_type": "code",
   "execution_count": null,
   "outputs": [],
   "source": [
    "# difference between list.sort and sorted(list)\n",
    "# list.sort() doing it in place, no new list is created\n",
    "# and it return none\n",
    "\n",
    "# sorted(list) create a new list"
   ],
   "metadata": {
    "collapsed": false,
    "pycharm": {
     "name": "#%%\n"
    }
   }
  }
 ],
 "metadata": {
  "kernelspec": {
   "display_name": "Python 3",
   "language": "python",
   "name": "python3"
  },
  "language_info": {
   "codemirror_mode": {
    "name": "ipython",
    "version": 2
   },
   "file_extension": ".py",
   "mimetype": "text/x-python",
   "name": "python",
   "nbconvert_exporter": "python",
   "pygments_lexer": "ipython2",
   "version": "2.7.6"
  }
 },
 "nbformat": 4,
 "nbformat_minor": 0
}