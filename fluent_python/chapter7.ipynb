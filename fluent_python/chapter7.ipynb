{
 "cells": [
  {
   "cell_type": "code",
   "execution_count": null,
   "metadata": {
    "collapsed": true
   },
   "outputs": [],
   "source": [
    "@decorate\n",
    "def target():\n",
    "    print(\"running target()\")\n",
    "\n",
    "# equal to\n",
    "def target():\n",
    "    print(\"running target()\")\n",
    "\n",
    "target = decorate(target)"
   ]
  },
  {
   "cell_type": "code",
   "execution_count": 1,
   "outputs": [
    {
     "name": "stdout",
     "output_type": "stream",
     "text": [
      "running inner()\n"
     ]
    }
   ],
   "source": [
    "def deco(func):\n",
    "    def inner():\n",
    "        print(\"running inner()\")\n",
    "    return inner\n",
    "\n",
    "@deco\n",
    "def target():\n",
    "    print(\"running target\")\n",
    "\n",
    "target()"
   ],
   "metadata": {
    "collapsed": false,
    "pycharm": {
     "name": "#%%\n"
    }
   }
  },
  {
   "cell_type": "markdown",
   "source": [
    "a key feature of decorators is that they run right after the decorated function is defined. That is usually at import time"
   ],
   "metadata": {
    "collapsed": false
   }
  },
  {
   "cell_type": "code",
   "execution_count": 3,
   "outputs": [
    {
     "name": "stdout",
     "output_type": "stream",
     "text": [
      "running register(<function f1 at 0x0000014277DE1280>)\n",
      "running register(<function f2 at 0x0000014277DE1F70>)\n",
      "running main()\n",
      "registry -> [<function f1 at 0x0000014277DE1280>, <function f2 at 0x0000014277DE1F70>]\n",
      "running f1()\n",
      "running f2()\n",
      "running f3()\n"
     ]
    }
   ],
   "source": [
    "registry = []\n",
    "\n",
    "def register(func):\n",
    "    print(\"running register(%s)\" % func)\n",
    "    registry.append(func)\n",
    "    return func\n",
    "\n",
    "@register\n",
    "def f1():\n",
    "    print(\"running f1()\")\n",
    "\n",
    "@register\n",
    "def f2():\n",
    "    print(\"running f2()\")\n",
    "\n",
    "def f3():\n",
    "    print(\"running f3()\")\n",
    "\n",
    "def main():\n",
    "    print(\"running main()\")\n",
    "    print(\"registry ->\", registry)\n",
    "    f1()\n",
    "    f2()\n",
    "    f3()\n",
    "\n",
    "if __name__ == '__main__':\n",
    "    main()"
   ],
   "metadata": {
    "collapsed": false,
    "pycharm": {
     "name": "#%%\n"
    }
   }
  },
  {
   "cell_type": "code",
   "execution_count": null,
   "outputs": [],
   "source": [
    "# variable scope\n",
    "def f1(a):\n",
    "    print(a)\n",
    "    print(b)\n",
    "\n",
    "f1(3)\n",
    "# throwing error say b is not defined"
   ],
   "metadata": {
    "collapsed": false,
    "pycharm": {
     "name": "#%%\n"
    }
   }
  },
  {
   "cell_type": "code",
   "execution_count": null,
   "outputs": [],
   "source": [
    "b = 6\n",
    "def f2(a):\n",
    "    print(a)\n",
    "    print(b)\n",
    "    b = 9\n",
    "\n",
    "f2(3)\n",
    "\n",
    "# throwing error local variable `b` referenced before assignment\n",
    "\n",
    "# in order to fix above do this\n",
    "\n",
    "def f2(a):\n",
    "    global b\n",
    "    print(a)\n",
    "    print(b)\n",
    "    b = 9\n"
   ],
   "metadata": {
    "collapsed": false,
    "pycharm": {
     "name": "#%%\n"
    }
   }
  }
 ],
 "metadata": {
  "kernelspec": {
   "display_name": "Python 3",
   "language": "python",
   "name": "python3"
  },
  "language_info": {
   "codemirror_mode": {
    "name": "ipython",
    "version": 2
   },
   "file_extension": ".py",
   "mimetype": "text/x-python",
   "name": "python",
   "nbconvert_exporter": "python",
   "pygments_lexer": "ipython2",
   "version": "2.7.6"
  }
 },
 "nbformat": 4,
 "nbformat_minor": 0
}