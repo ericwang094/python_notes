{
 "cells": [
  {
   "cell_type": "code",
   "execution_count": null,
   "metadata": {
    "collapsed": true
   },
   "outputs": [],
   "source": [
    "@decorate\n",
    "def target():\n",
    "    print(\"running target()\")\n",
    "\n",
    "# equal to\n",
    "def target():\n",
    "    print(\"running target()\")\n",
    "\n",
    "target = decorate(target)"
   ]
  },
  {
   "cell_type": "code",
   "execution_count": 1,
   "outputs": [
    {
     "name": "stdout",
     "output_type": "stream",
     "text": [
      "running inner()\n"
     ]
    }
   ],
   "source": [
    "def deco(func):\n",
    "    def inner():\n",
    "        print(\"running inner()\")\n",
    "    return inner\n",
    "\n",
    "@deco\n",
    "def target():\n",
    "    print(\"running target\")\n",
    "\n",
    "target()"
   ],
   "metadata": {
    "collapsed": false,
    "pycharm": {
     "name": "#%%\n"
    }
   }
  },
  {
   "cell_type": "markdown",
   "source": [
    "a key feature of decorators is that they run right after the decorated function is defined. That is usually at import time"
   ],
   "metadata": {
    "collapsed": false
   }
  },
  {
   "cell_type": "code",
   "execution_count": 3,
   "outputs": [
    {
     "name": "stdout",
     "output_type": "stream",
     "text": [
      "running register(<function f1 at 0x0000014277DE1280>)\n",
      "running register(<function f2 at 0x0000014277DE1F70>)\n",
      "running main()\n",
      "registry -> [<function f1 at 0x0000014277DE1280>, <function f2 at 0x0000014277DE1F70>]\n",
      "running f1()\n",
      "running f2()\n",
      "running f3()\n"
     ]
    }
   ],
   "source": [
    "registry = []\n",
    "\n",
    "def register(func):\n",
    "    print(\"running register(%s)\" % func)\n",
    "    registry.append(func)\n",
    "    return func\n",
    "\n",
    "@register\n",
    "def f1():\n",
    "    print(\"running f1()\")\n",
    "\n",
    "@register\n",
    "def f2():\n",
    "    print(\"running f2()\")\n",
    "\n",
    "def f3():\n",
    "    print(\"running f3()\")\n",
    "\n",
    "def main():\n",
    "    print(\"running main()\")\n",
    "    print(\"registry ->\", registry)\n",
    "    f1()\n",
    "    f2()\n",
    "    f3()\n",
    "\n",
    "if __name__ == '__main__':\n",
    "    main()"
   ],
   "metadata": {
    "collapsed": false,
    "pycharm": {
     "name": "#%%\n"
    }
   }
  },
  {
   "cell_type": "code",
   "execution_count": null,
   "outputs": [],
   "source": [
    "# variable scope\n",
    "def f1(a):\n",
    "    print(a)\n",
    "    print(b)\n",
    "\n",
    "f1(3)\n",
    "# throwing error say b is not defined"
   ],
   "metadata": {
    "collapsed": false,
    "pycharm": {
     "name": "#%%\n"
    }
   }
  },
  {
   "cell_type": "code",
   "execution_count": 4,
   "outputs": [
    {
     "name": "stdout",
     "output_type": "stream",
     "text": [
      "3\n",
      "6\n"
     ]
    }
   ],
   "source": [
    "b = 6\n",
    "# def f2(a):\n",
    "#     print(a)\n",
    "#     print(b)\n",
    "#     b = 9\n",
    "#\n",
    "# f2(3)\n",
    "\n",
    "# throwing error local variable `b` referenced before assignment\n",
    "\n",
    "# in order to fix above do this\n",
    "\n",
    "def f2(a):\n",
    "    global b\n",
    "    print(a)\n",
    "    print(b)\n",
    "    b = 9\n",
    "\n",
    "# print 3 6\n",
    "f2(3)\n",
    "\n",
    "# print 6\n",
    "print(b)"
   ],
   "metadata": {
    "collapsed": false,
    "pycharm": {
     "name": "#%%\n"
    }
   }
  },
  {
   "cell_type": "code",
   "execution_count": 4,
   "outputs": [
    {
     "name": "stdout",
     "output_type": "stream",
     "text": [
      "10.0\n",
      "10.5\n",
      "11.0\n"
     ]
    }
   ],
   "source": [
    "# avg with class\n",
    "\n",
    "class Average():\n",
    "\n",
    "    def __init__(self):\n",
    "        self.series = []\n",
    "\n",
    "    def __call__(self, new_value):\n",
    "        self.series.append(new_value)\n",
    "        total = sum(self.series)\n",
    "        return total/len(self.series)\n",
    "\n",
    "avg = Average()\n",
    "print(avg(10))\n",
    "print(avg(11))\n",
    "print(avg(12))"
   ],
   "metadata": {
    "collapsed": false,
    "pycharm": {
     "name": "#%%\n"
    }
   }
  },
  {
   "cell_type": "code",
   "execution_count": 9,
   "outputs": [
    {
     "name": "stdout",
     "output_type": "stream",
     "text": [
      "10.0\n",
      "10.5\n",
      "11.0\n",
      "('new_value', 'total')\n",
      "('series',)\n",
      "(<cell at 0x00000230D6151A90: list object at 0x00000230D616DF40>,)\n",
      "Create a new cell object.\n",
      "\n",
      "  contents\n",
      "    the contents of the cell. If not specified, the cell will be empty,\n",
      "    and \n",
      " further attempts to access its cell_contents attribute will\n",
      "    raise a ValueError.\n",
      "[10, 11, 12]\n"
     ]
    }
   ],
   "source": [
    "# avg with higher-order function\n",
    "\n",
    "def make_average():\n",
    "    series = []\n",
    "\n",
    "    def averager(new_value):\n",
    "        series.append(new_value)\n",
    "        total = sum(series)\n",
    "        return total/len(series)\n",
    "\n",
    "    return averager\n",
    "\n",
    "avg = make_average()\n",
    "print(avg(10))\n",
    "print(avg(11))\n",
    "print(avg(12))\n",
    "\n",
    "# within averager, series is a free variable\n",
    "# where python keep local variable\n",
    "print(avg.__code__.co_varnames)\n",
    "\n",
    "# where python keep freevars\n",
    "print(avg.__code__.co_freevars)\n",
    "\n",
    "\n",
    "print(avg.__closure__)\n",
    "\n",
    "# the actual value where python keep the freevars\n",
    "print(avg.__closure__[0].cell_contents)"
   ],
   "metadata": {
    "collapsed": false,
    "pycharm": {
     "name": "#%%\n"
    }
   }
  },
  {
   "cell_type": "code",
   "execution_count": 10,
   "outputs": [
    {
     "name": "stdout",
     "output_type": "stream",
     "text": [
      "10.0\n",
      "10.5\n"
     ]
    }
   ],
   "source": [
    "# a broken implementation\n",
    "# def make_averager():\n",
    "#     count = 0\n",
    "#     total = 0\n",
    "#\n",
    "#     def averager(new_value):\n",
    "#         count += 1\n",
    "#         total += new_value\n",
    "#         return total / count\n",
    "#     return averager\n",
    "\n",
    "# this is not working because count += 1\n",
    "# is actually equal to count = count + 1\n",
    "# for immutable types like numbers, strings, tpules,\n",
    "# we can only do read, not update.\n",
    "# In order to fix that, we can use nonlocal declaration which let us\n",
    "# flag a variable as a free variable even when it is assigned a\n",
    "# new value within the function\n",
    "\n",
    "def make_averager():\n",
    "    count = 0\n",
    "    total = 0\n",
    "\n",
    "    def averager(new_value):\n",
    "        nonlocal count, total\n",
    "        count += 1\n",
    "        total += new_value\n",
    "        return total / count\n",
    "    return averager\n",
    "\n",
    "avg = make_averager()\n",
    "print(avg(10))\n",
    "print(avg(11))"
   ],
   "metadata": {
    "collapsed": false,
    "pycharm": {
     "name": "#%%\n"
    }
   }
  },
  {
   "cell_type": "code",
   "execution_count": 12,
   "outputs": [
    {
     "name": "stdout",
     "output_type": "stream",
     "text": [
      "**************************************** calling snooze(.123)\n",
      "[0.12378880s] snooze(0.123) -> None\n",
      "**************************************** calling factorial(6)\n",
      "[0.00000060s] factorial(1) -> 1\n",
      "[0.00001690s] factorial(2) -> 2\n",
      "[0.00002940s] factorial(3) -> 6\n",
      "[0.00004100s] factorial(4) -> 24\n",
      "[0.00005230s] factorial(5) -> 120\n",
      "[0.00006490s] factorial(6) -> 720\n",
      "6 !=  720\n"
     ]
    }
   ],
   "source": [
    "import time\n",
    "\n",
    "def clock(func):\n",
    "    def clocked(*args):\n",
    "        t0 = time.perf_counter()\n",
    "        result = func(*args)\n",
    "        elapsed = time.perf_counter() - t0\n",
    "        name = func.__name__\n",
    "        arg_str = ', '.join(repr(arg) for arg in args)\n",
    "        print('[%0.8fs] %s(%s) -> %r' % (elapsed, name, arg_str, result))\n",
    "        return result\n",
    "\n",
    "    return clocked\n",
    "\n",
    "@clock\n",
    "def snooze(seconds):\n",
    "    time.sleep(seconds)\n",
    "\n",
    "@clock\n",
    "def factorial(n):\n",
    "    return 1 if n < 2 else n*factorial(n-1)\n",
    "\n",
    "if __name__ == '__main__':\n",
    "    print(\"*\" * 40, \"calling snooze(.123)\")\n",
    "    snooze(.123)\n",
    "    print(\"*\" * 40, \"calling factorial(6)\")\n",
    "    print(\"6 != \", factorial(6))"
   ],
   "metadata": {
    "collapsed": false,
    "pycharm": {
     "name": "#%%\n"
    }
   }
  },
  {
   "cell_type": "code",
   "execution_count": null,
   "outputs": [],
   "source": [
    "# improved version of clock decorator\n",
    "\n",
    "import time, functools\n",
    "\n",
    "def clock(func):\n",
    "    @functools.wraps(func)\n",
    "    def clocked(*args, **kwargs):\n",
    "        t0 = time.time()\n",
    "        result = func(*args, **kwargs)\n",
    "        elapsed = time.time() - t0\n",
    "        name = func.__name__\n",
    "        arg_lst = []\n",
    "        if args:\n",
    "            arg_lst.append(\", \".join(repr(arg) for arg in args))\n",
    "        if kwargs:\n",
    "            pairs = ['%s=%r' % (k, w) for k, w in sorted(kwargs.items())]\n",
    "            arg_lst.append(\", \".join(pairs))\n",
    "        arg_str = \", \".join(arg_lst)\n",
    "        print(\"[%0.8fs] %s(%s) -> %r \" % (elapsed, name, arg_str, result))\n",
    "        return result\n",
    "    return clocked"
   ],
   "metadata": {
    "collapsed": false,
    "pycharm": {
     "name": "#%%\n"
    }
   }
  },
  {
   "cell_type": "code",
   "execution_count": null,
   "outputs": [],
   "source": [
    "# stacked decorators\n",
    "# @d1\n",
    "# @d2\n",
    "# def f():\n",
    "#     print('f')\n",
    "\n",
    "# equals to f = d1(d2(f))"
   ],
   "metadata": {
    "collapsed": false,
    "pycharm": {
     "name": "#%%\n"
    }
   }
  },
  {
   "cell_type": "code",
   "execution_count": 16,
   "outputs": [
    {
     "ename": "TypeError",
     "evalue": "'set' object is not callable",
     "output_type": "error",
     "traceback": [
      "\u001B[1;31m---------------------------------------------------------------------------\u001B[0m",
      "\u001B[1;31mTypeError\u001B[0m                                 Traceback (most recent call last)",
      "\u001B[1;32m~\\AppData\\Local\\Temp/ipykernel_13876/2552319101.py\u001B[0m in \u001B[0;36m<module>\u001B[1;34m\u001B[0m\n\u001B[0;32m     13\u001B[0m     \u001B[1;32mreturn\u001B[0m \u001B[0mdecorate\u001B[0m\u001B[1;33m\u001B[0m\u001B[1;33m\u001B[0m\u001B[0m\n\u001B[0;32m     14\u001B[0m \u001B[1;33m\u001B[0m\u001B[0m\n\u001B[1;32m---> 15\u001B[1;33m \u001B[1;33m@\u001B[0m\u001B[0mregistry\u001B[0m\u001B[1;33m(\u001B[0m\u001B[0mactive\u001B[0m\u001B[1;33m=\u001B[0m\u001B[1;32mFalse\u001B[0m\u001B[1;33m)\u001B[0m\u001B[1;33m\u001B[0m\u001B[1;33m\u001B[0m\u001B[0m\n\u001B[0m\u001B[0;32m     16\u001B[0m \u001B[1;32mdef\u001B[0m \u001B[0mf1\u001B[0m\u001B[1;33m(\u001B[0m\u001B[1;33m)\u001B[0m\u001B[1;33m:\u001B[0m\u001B[1;33m\u001B[0m\u001B[1;33m\u001B[0m\u001B[0m\n\u001B[0;32m     17\u001B[0m     \u001B[0mprint\u001B[0m\u001B[1;33m(\u001B[0m\u001B[1;34m\"running f1()\"\u001B[0m\u001B[1;33m)\u001B[0m\u001B[1;33m\u001B[0m\u001B[1;33m\u001B[0m\u001B[0m\n",
      "\u001B[1;31mTypeError\u001B[0m: 'set' object is not callable"
     ]
    }
   ],
   "source": [
    "# parameterized decorator\n",
    "\n",
    "registry = set()\n",
    "\n",
    "def register(active=True):\n",
    "    def decorate(func):\n",
    "        print(\"running register(active=%s)->decorate(%s)\" % (active, func))\n",
    "        if active:\n",
    "            registry.add(func)\n",
    "        else:\n",
    "            registry.discard(func)\n",
    "        return func\n",
    "    return decorate\n",
    "\n",
    "@registry(active=False)\n",
    "def f1():\n",
    "    print(\"running f1()\")\n",
    "\n",
    "@registry()\n",
    "def f2():\n",
    "    print(\"running f2()\")\n",
    "\n",
    "def f3():\n",
    "    print(\"running f3()\")"
   ],
   "metadata": {
    "collapsed": false,
    "pycharm": {
     "name": "#%%\n"
    }
   }
  }
 ],
 "metadata": {
  "kernelspec": {
   "display_name": "Python 3",
   "language": "python",
   "name": "python3"
  },
  "language_info": {
   "codemirror_mode": {
    "name": "ipython",
    "version": 2
   },
   "file_extension": ".py",
   "mimetype": "text/x-python",
   "name": "python",
   "nbconvert_exporter": "python",
   "pygments_lexer": "ipython2",
   "version": "2.7.6"
  }
 },
 "nbformat": 4,
 "nbformat_minor": 0
}