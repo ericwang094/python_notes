{
 "cells": [
  {
   "cell_type": "code",
   "execution_count": 6,
   "metadata": {
    "collapsed": true
   },
   "outputs": [
    {
     "name": "stdout",
     "output_type": "stream",
     "text": [
      "3628800\n"
     ]
    },
    {
     "data": {
      "text/plain": "3628800"
     },
     "execution_count": 6,
     "metadata": {},
     "output_type": "execute_result"
    }
   ],
   "source": [
    "def factorial(n):\n",
    "    return 1 if n < 2 else n * factorial(n-1)\n",
    "\n",
    "print(factorial(10))\n",
    "\n",
    "fact = factorial\n",
    "fact(10)"
   ]
  },
  {
   "cell_type": "code",
   "execution_count": 12,
   "outputs": [
    {
     "name": "stdout",
     "output_type": "stream",
     "text": [
      "[1, 1, 2, 6, 24, 120]\n",
      "True\n"
     ]
    }
   ],
   "source": [
    "# modern replacements for map, filter and reduce\n",
    "list(map(fact, range(6)))\n",
    "# is same as\n",
    "my_list = [fact(i) for i in range(6)]\n",
    "print(my_list)\n",
    "\n",
    "filter_list_1 = list(map(fact, filter(lambda n: n % 2, range(6))))\n",
    "filter_list_2 = [fact(n) for n in range(6) if n % 2]\n",
    "\n",
    "print(filter_list_1 == filter_list_2)"
   ],
   "metadata": {
    "collapsed": false,
    "pycharm": {
     "name": "#%%\n"
    }
   }
  },
  {
   "cell_type": "code",
   "execution_count": 14,
   "outputs": [
    {
     "name": "stdout",
     "output_type": "stream",
     "text": [
      "True\n",
      "False\n",
      "True\n",
      "False\n",
      "True\n"
     ]
    }
   ],
   "source": [
    "# all and any\n",
    "# all, returns true if every elements of the iterable is truthy; all([]) returns True\n",
    "# any, returns True if any of the iterable is truthy; any([]) returns False\n",
    "\n",
    "# return true\n",
    "print(all([]))\n",
    "\n",
    "# return false\n",
    "print(all([0, 0, 0]))\n",
    "\n",
    "# return true\n",
    "print(all([1, 1, 1,]))\n",
    "\n",
    "# return False\n",
    "print(any([]))\n",
    "\n",
    "# return True\n",
    "print(any([1, 0, 0]))"
   ],
   "metadata": {
    "collapsed": false,
    "pycharm": {
     "name": "#%%\n"
    }
   }
  },
  {
   "cell_type": "code",
   "execution_count": null,
   "outputs": [],
   "source": [],
   "metadata": {
    "collapsed": false,
    "pycharm": {
     "name": "#%%\n"
    }
   }
  }
 ],
 "metadata": {
  "kernelspec": {
   "display_name": "Python 3",
   "language": "python",
   "name": "python3"
  },
  "language_info": {
   "codemirror_mode": {
    "name": "ipython",
    "version": 2
   },
   "file_extension": ".py",
   "mimetype": "text/x-python",
   "name": "python",
   "nbconvert_exporter": "python",
   "pygments_lexer": "ipython2",
   "version": "2.7.6"
  }
 },
 "nbformat": 4,
 "nbformat_minor": 0
}