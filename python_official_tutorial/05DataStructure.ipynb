{
 "cells": [
  {
   "cell_type": "code",
   "execution_count": 3,
   "metadata": {
    "collapsed": true
   },
   "outputs": [
    {
     "name": "stdout",
     "output_type": "stream",
     "text": [
      "True\n",
      "True\n",
      "True\n",
      "True\n",
      "True\n",
      "True\n",
      "True\n"
     ]
    }
   ],
   "source": [
    "# interesting sequence comparison\n",
    "print((1, 2 ,3) < (1, 2, 4)) # true\n",
    "print([1, 2, 3] < [1, 2, 4]) # true\n",
    "print('ABC' < 'C' < 'Pascal' < 'Python') # true\n",
    "print((1, 2, 3, 4) < (1, 2, 4))# true\n",
    "print((1, 2) < (1, 2, -1)) # true, if one sequence is an sub-sequence of the other, the shorter one is smaller one\n",
    "print((1, 2, 3) == (1.0, 2.0, 3.0))\n",
    "print((1, 2, ('aa', 'bb')) < (1, 2, ('abc', 'a'), 4)) #true"
   ]
  },
  {
   "cell_type": "code",
   "execution_count": null,
   "outputs": [],
   "source": [],
   "metadata": {
    "collapsed": false
   }
  }
 ],
 "metadata": {
  "kernelspec": {
   "display_name": "Python 3",
   "language": "python",
   "name": "python3"
  },
  "language_info": {
   "codemirror_mode": {
    "name": "ipython",
    "version": 2
   },
   "file_extension": ".py",
   "mimetype": "text/x-python",
   "name": "python",
   "nbconvert_exporter": "python",
   "pygments_lexer": "ipython2",
   "version": "2.7.6"
  }
 },
 "nbformat": 4,
 "nbformat_minor": 0
}
